{
 "cells": [
  {
   "cell_type": "code",
   "execution_count": 103,
   "metadata": {},
   "outputs": [
    {
     "name": "stdout",
     "output_type": "stream",
     "text": [
      "n_snps = 99155\n",
      "mean = [0.14835643 0.14448711 0.15679895 0.14256248 0.14916981]\n",
      "std = [1.35285382 1.35317582 1.43112036 1.32798098 1.36010736]\n"
     ]
    },
    {
     "data": {
      "image/png": "[encoded data removed]",
      "text/plain": [
       "<Figure size 432x288 with 1 Axes>"
      ]
     },
     "metadata": {
      "needs_background": "light"
     },
     "output_type": "display_data"
    }
   ],
   "source": [
    "# imports\n",
    "import numpy as np\n",
    "from sklearn.preprocessing import scale\n",
    "from sklearn.decomposition import PCA\n",
    "import matplotlib.pyplot as plt\n",
    "import stdpopsim\n",
    "\n",
    "n = 150 # number of diploid samples\n",
    "length_multiplier = .4 # fraction of chrom length\n",
    "\n",
    "# simulate from model\n",
    "species = stdpopsim.get_species(\"HomSap\")\n",
    "contig = species.get_contig(\"chr22\", length_multiplier=length_multiplier)\n",
    "model = species.get_demographic_model(\"AmericanAdmixture_4B11\")       \n",
    "samples = model.get_samples(100, 100, 100, 100)\n",
    "engine = stdpopsim.get_default_engine()\n",
    "        \n",
    "# generate tree sequences\n",
    "ts = engine.simulate(model, contig, samples)\n",
    "\n",
    "# generate haploid genotypes\n",
    "A = ts.genotype_matrix()\n",
    "p, n_hap = A.shape\n",
    "print(\"n_snps = {}\".format(p))\n",
    "\n",
    "# generate diploid genotypes\n",
    "Y = np.empty((p, int(n_hap/2)))\n",
    "j = 0\n",
    "for i in range(0, 2*n, 2):\n",
    "    Y[:, j] = np.sum(A[:, i:(i+2)], axis=1)\n",
    "    j += 1\n",
    "    \n",
    "# filter too rare and too common variants\n",
    "f = np.sum(Y, axis=1) / (2*n)\n",
    "Y_f = Y[(f<.1) | (f > .9), :]\n",
    "\n",
    "# center / scale the data\n",
    "Z = scale(Y_f.T)\n",
    "mu = np.mean(Z, axis=1)\n",
    "std = np.std(Z, axis=1)\n",
    "\n",
    "# quick check the each snp has mean 0 and std 1\n",
    "print(\"mean = {}\".format(mu[:5]))\n",
    "print(\"std = {}\".format(std[:5]))\n",
    "\n",
    "# run pca\n",
    "pca = PCA(n_components=10)\n",
    "PC = pca.fit_transform(Z)\n",
    "\n",
    "# There is no discernible structure\n",
    "labels = np.repeat([0, 1, 2, 4], 50)\n",
    "plt.scatter(PC[:, 0], PC[:, 1], c=labels);\n",
    "plt.xlabel(\"PC1\");\n",
    "plt.ylabel(\"PC2\");"
   ]
  },
  {
   "cell_type": "code",
   "execution_count": null,
   "metadata": {},
   "outputs": [],
   "source": []
  }
 ],
 "metadata": {
  "kernelspec": {
   "display_name": "Python 3",
   "language": "python",
   "name": "python3"
  },
  "language_info": {
   "codemirror_mode": {
    "name": "ipython",
    "version": 3
   },
   "file_extension": ".py",
   "mimetype": "text/x-python",
   "name": "python",
   "nbconvert_exporter": "python",
   "pygments_lexer": "ipython3",
   "version": "3.7.6"
  }
 },
 "nbformat": 4,
 "nbformat_minor": 4
}
